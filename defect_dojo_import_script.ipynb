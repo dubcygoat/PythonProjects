{
 "cells": [
  {
   "cell_type": "code",
   "execution_count": 1,
   "metadata": {},
   "outputs": [],
   "source": [
    "# Import the requests library\n",
    "import sys\n",
    "import requests\n",
    "from config import defect_dojo_Api\n"
   ]
  },
  {
   "cell_type": "code",
   "execution_count": 2,
   "metadata": {},
   "outputs": [
    {
     "name": "stdout",
     "output_type": "stream",
     "text": [
      "Token 548afd6fab3bea9794a41b31da0e9404f733e222\n"
     ]
    }
   ],
   "source": [
    "print(defect_dojo_Api)"
   ]
  },
  {
   "cell_type": "code",
   "execution_count": null,
   "metadata": {},
   "outputs": [],
   "source": [
    "#the url to the DefectDojo API\n",
    "url= 'https://demo.defectdojo.org/api/v2/import-scan'\n"
   ]
  },
  {
   "cell_type": "code",
   "execution_count": null,
   "metadata": {},
   "outputs": [],
   "source": [
    "\n",
    "#set the file name to the first argument\n",
    "filename=sys.argv[1]\n",
    "\n",
    "#if else statement to check the scan type\n",
    "scan_report = ''\n",
    "if filename == '[insert filename and extension here]':\n",
    "    scan_report = 'Insert scan type here from DefectDojo'\n",
    "elif filename == '[insert filename and extension here]':\n",
    "    scan_report = 'Insert scan type here from DefectDojo'\n",
    "elif filename == '[insert filename and extension here]':\n",
    "    scan_report = 'Insert scan type here from DefectDojo'"
   ]
  },
  {
   "cell_type": "code",
   "execution_count": null,
   "metadata": {},
   "outputs": [],
   "source": [
    "#header for the request \n",
    "headers={'Authorization':defect_dojo_Api}\n"
   ]
  },
  {
   "cell_type": "code",
   "execution_count": null,
   "metadata": {},
   "outputs": [],
   "source": [
    "#data for the request\n",
    "data = {'active': 'true',\n",
    "        'verified': 'true',\n",
    "        'scan_type':scan_report,\n",
    "        'minimum_severity': 'Medium',\n",
    "        'engagement': '[insert engagement id here]',\n",
    "       }\n",
    "\n"
   ]
  },
  {
   "cell_type": "code",
   "execution_count": null,
   "metadata": {},
   "outputs": [],
   "source": [
    "#open the file and read it\n",
    "files ={'file': open(filename, 'rb')}\n",
    "\n"
   ]
  },
  {
   "cell_type": "code",
   "execution_count": null,
   "metadata": {},
   "outputs": [],
   "source": [
    "\n",
    "#send the request\n",
    "response= requests.post(url, headers=headers, files=files, data=data)\n",
    "\n",
    "#check the response\n",
    "if response.status_code == 201:\n",
    "    print('Scan uploaded successfully')\n",
    "else:\n",
    "    print('Error uploading scan')\n",
    "    print(response.text)"
   ]
  },
  {
   "cell_type": "code",
   "execution_count": null,
   "metadata": {},
   "outputs": [],
   "source": []
  }
 ],
 "metadata": {
  "kernelspec": {
   "display_name": "Python 3",
   "language": "python",
   "name": "python3"
  },
  "language_info": {
   "codemirror_mode": {
    "name": "ipython",
    "version": 3
   },
   "file_extension": ".py",
   "mimetype": "text/x-python",
   "name": "python",
   "nbconvert_exporter": "python",
   "pygments_lexer": "ipython3",
   "version": "3.12.6"
  }
 },
 "nbformat": 4,
 "nbformat_minor": 2
}
